{
 "cells": [
  {
   "cell_type": "code",
   "execution_count": 3,
   "metadata": {},
   "outputs": [
    {
     "data": {
      "image/png": "[encoded data removed]",
      "text/plain": [
       "<IPython.core.display.Image object>"
      ]
     },
     "execution_count": 3,
     "metadata": {},
     "output_type": "execute_result"
    }
   ],
   "source": [
    "from IPython.display import Image\n",
    "#from PIL import Image, ImageEnhance, ImageFilter\n",
    "import PIL\n",
    "from os import path\n",
    "import os.path\n",
    "import requests\n",
    "import hashlib\n",
    "import pytesseract  \n",
    "import cv2\n",
    "from skimage import data, io, filters\n",
    "import re\n",
    "\n",
    "from PIL import ImageDraw\n",
    "import sys\n",
    "sys.setrecursionlimit(4000)\n",
    "\n",
    "CAPTCHA_FOLDER = 'tempr_captcha'\n",
    "CAPTCHA_URL = 'https://tempr.email/application/api/secureCaptcha.php?sid=gdq6vb9b1q3ufg85hvudn3koh7&small=1'\n",
    "CAPTCHA_IMAGE = 'captcha.png'\n",
    "\n",
    "def download_image(url):\n",
    "    img_data = requests.get(url).content\n",
    "    img_md5 = hashlib.md5(img_data).hexdigest()\n",
    "    img_path = os.path.join(CAPTCHA_FOLDER, img_md5 + '.png')\n",
    "    with open(img_path, 'wb') as handler:\n",
    "        handler.write(img_data)\n",
    "    return img_path\n",
    "\n",
    "def download_captcha(n):          \n",
    "    for i in range(n):\n",
    "        if i % 100 == 0:\n",
    "            print('[' + str(i) + ']')\n",
    "        download_image(CAPTCHA_URL)\n",
    "\n",
    "def solve_captcha():\n",
    "    img_path = download_image(CAPTCHA_URL)\n",
    "    \n",
    "\n",
    "    \n",
    "# download_image    \n",
    "\n",
    "# img = cv2.imread(img_path)\n",
    "# print(type(img_data))\n",
    "# print(type(img))\n",
    "# text = pytesseract.image_to_string(Image.open('image'))\n",
    "# print(text)\n",
    "\n",
    "\n",
    "Image(filename='captcha.png')"
   ]
  },
  {
   "cell_type": "code",
   "execution_count": 4,
   "metadata": {},
   "outputs": [
    {
     "data": {
      "image/png": "[encoded data removed]",
      "text/plain": [
       "<IPython.core.display.Image object>"
      ]
     },
     "execution_count": 4,
     "metadata": {},
     "output_type": "execute_result"
    }
   ],
   "source": [
    "def image_to_bw(image_path):\n",
    "    img = PIL.Image.open(image_path)\n",
    "    pixels = img.load()\n",
    "    for i in range(100):\n",
    "        for j in range(50):\n",
    "            if j < 24 and i < 99:\n",
    "                pixels[i, j] = (0, 0, 0) if pixels[i, j][2] > 115 else (255, 255, 255)\n",
    "            else:\n",
    "                pixels[i, j] = (0, 0, 0) if pixels[i, j][2] < 255 else (255, 255, 255)\n",
    "    bw_img_path = re.sub(r\"\\.png$\", \"_bw.png\", image_path)\n",
    "    img.save(bw_img_path)\n",
    "    return bw_img_path\n",
    "\n",
    "bw_image_path = image_to_bw(CAPTCHA_IMAGE)\n",
    "\n",
    "Image(filename=bw_image_path)"
   ]
  },
  {
   "cell_type": "code",
   "execution_count": 5,
   "metadata": {},
   "outputs": [
    {
     "name": "stdout",
     "output_type": "stream",
     "text": [
      "guess = \f",
      "\n"
     ]
    },
    {
     "data": {
      "image/png": "[encoded data removed]",
      "text/plain": [
       "<IPython.core.display.Image object>"
      ]
     },
     "execution_count": 5,
     "metadata": {},
     "output_type": "execute_result"
    }
   ],
   "source": [
    "captcha_image = download_image(CAPTCHA_URL)\n",
    "bw_captcha_image = image_to_bw(captcha_image)\n",
    "\n",
    "text = pytesseract.image_to_string(PIL.Image.open(bw_captcha_image))\n",
    "print(\"guess =\", text)\n",
    "Image(filename=bw_captcha_image)"
   ]
  },
  {
   "cell_type": "code",
   "execution_count": 8,
   "metadata": {},
   "outputs": [
    {
     "name": "stdout",
     "output_type": "stream",
     "text": [
      "tempr_captcha/96b8fe6146be0c28ce6112ef242d0b95_bw_outlined.png\n",
      "VS\n",
      "\f",
      "\n"
     ]
    },
    {
     "data": {
      "image/png": "[encoded data removed]",
      "text/plain": [
       "<IPython.core.display.Image object>"
      ]
     },
     "execution_count": 8,
     "metadata": {},
     "output_type": "execute_result"
    }
   ],
   "source": [
    "def rec_fill(x, y, pixels, area, rect=None):\n",
    "    area.append([x, y])\n",
    "    if rect is not None:\n",
    "        rect['x1'] = min(rect['x1'], x)\n",
    "        rect['y1'] = min(rect['y1'], y)\n",
    "        rect['x2'] = max(rect['x2'], x)\n",
    "        rect['y2'] = max(rect['y2'], y)\n",
    "    if x - 1 >= 0 and pixels[x - 1, y] == (255, 255, 255) and [x - 1, y] not in area:\n",
    "        rec_fill(x - 1, y, pixels, area, rect)\n",
    "    if x + 1 < 100 and pixels[x + 1, y] == (255, 255, 255) and [x + 1, y] not in area:\n",
    "        rec_fill(x + 1, y, pixels, area, rect)\n",
    "    if y - 1 >= 0 and pixels[x, y - 1] == (255, 255, 255) and [x, y - 1] not in area:\n",
    "        rec_fill(x, y - 1, pixels, area, rect)\n",
    "    if y + 1 < 50 and pixels[x, y + 1] == (255, 255, 255) and [x, y + 1] not in area:\n",
    "        rec_fill(x, y + 1, pixels, area, rect)\n",
    "\n",
    "def fill_area(pixels, area, color):\n",
    "    for cords in area:\n",
    "        pixels[cords[0], cords[1]] = color\n",
    "\n",
    "def fill_background(pixels):\n",
    "    area = []\n",
    "    recursive_traversal(0, 0, pixels, area)\n",
    "    fill_area(pixels, area, (0, 0, 0))   \n",
    "\n",
    "def fill_letters(image_path):\n",
    "    img = PIL.Image.open(image_path)\n",
    "    draw = ImageDraw.Draw(img)\n",
    "    pixels = img.load()\n",
    "    fill_background(pixels)\n",
    "    characters = []\n",
    "    \n",
    "    for i in range(100):\n",
    "        for j in range(50):\n",
    "            if pixels[i, j] == (255, 255, 255):\n",
    "                area = []\n",
    "                rect = {\n",
    "                    \"x1\": i,\n",
    "                    \"y1\": j,\n",
    "                    \"x2\": i,\n",
    "                    \"y2\": j\n",
    "                }\n",
    "                recursive_traversal(i, j, pixels, area, rect)\n",
    "                fill_area(pixels, area, (0, 255, 0))\n",
    "                # draw.rectangle([(rect['x1'], rect['y1']), (rect['x2'], rect['y2'])], outline =\"red\") \n",
    "                #print(rect, len(area))\n",
    "                rect['square'] = (rect['x2'] - rect['x1']) * (rect['y2'] - rect['y1'])\n",
    "                rect['area'] = area\n",
    "                characters.append(rect)\n",
    "    \n",
    "    characters.sort(key=lambda x: x['square'], reverse=True)\n",
    "    for character in characters[:3]:\n",
    "        draw.rectangle([(character['x1'], character['y1']), (character['x2'], character['y2'])], outline =\"red\")\n",
    "    \n",
    "    outlined_image_path = re.sub(r\"\\.png$\", \"_outlined.png\", image_path)\n",
    "    print(outlined_image_path)\n",
    "    img.save(outlined_image_path)\n",
    "    \n",
    "    draw.rectangle([(0, 0), (100, 50)], fill='white', outline ='white')\n",
    "    \n",
    "    for character in characters[:3]:\n",
    "        fill_area(pixels, character['area'], (0, 0, 0))  \n",
    "    \n",
    "    filled_image_path = re.sub(r\"\\.png$\", \"_filled.png\", image_path)\n",
    "    img.save(filled_image_path)\n",
    "    return filled_image_path\n",
    "\n",
    "def img_to_text(image_path):\n",
    "    text = pytesseract.image_to_string(PIL.Image.open(image_path), config='-c tessedit_char_whitelist=123456789ABCDEFGHKLNPRSTUVXYZ')\n",
    "    return text\n",
    "\n",
    "captcha_image = download_image(CAPTCHA_URL)\n",
    "bw_captcha_image = image_to_bw(captcha_image)\n",
    "\n",
    "# text = pytesseract.image_to_string(PIL.Image.open(bw_captcha_image))\n",
    "# print(\"guess =\", text)\n",
    "# Image(filename=bw_captcha_image)\n",
    "    \n",
    "img_path = fill_letters(bw_captcha_image)\n",
    "text = img_to_text(img_path)\n",
    "print(text)\n",
    "# img_path = fill_letters('tempr_captcha/b6ea4d2f905b460ee0efc34d813c4b5b_bw.png')\n",
    "Image(filename=captcha_image)"
   ]
  },
  {
   "cell_type": "code",
   "execution_count": 10,
   "metadata": {},
   "outputs": [
    {
     "name": "stdout",
     "output_type": "stream",
     "text": [
      "tempr_captcha/ebcdf6fcc3aa8932ae3f53ffcae4d0d9.png\n",
      "tempr_captcha/ebcdf6fcc3aa8932ae3f53ffcae4d0d9_bw.png\n",
      "tempr_captcha/ebcdf6fcc3aa8932ae3f53ffcae4d0d9_bw_outlined.png\n",
      "tempr_captcha/ebcdf6fcc3aa8932ae3f53ffcae4d0d9_bw_filled.png\n",
      "LPX\n",
      "\f",
      "\n"
     ]
    }
   ],
   "source": [
    "CAPTCHA_URL = 'https://tempr.email/application/api/secureCaptcha.php?sid=gdq6vb9b1q3ufg85hvudn3koh7&small=1'\n",
    "\n",
    "def solve_captcha(captcha_url):\n",
    "    captcha_image = download_image(CAPTCHA_URL)\n",
    "    print(captcha_image)\n",
    "    bw_captcha_image = image_to_bw(captcha_image)\n",
    "    print(bw_captcha_image)\n",
    "    filled_captcha_image = fill_letters(bw_captcha_image)\n",
    "    print(filled_captcha_image)\n",
    "    text = img_to_text(filled_captcha_image)\n",
    "    return text\n",
    "\n",
    "print(solve_captcha(CAPTCHA_URL))"
   ]
  },
  {
   "cell_type": "code",
   "execution_count": 11,
   "metadata": {},
   "outputs": [
    {
     "data": {
      "image/png": "[encoded data removed]",
      "text/plain": [
       "<IPython.core.display.Image object>"
      ]
     },
     "execution_count": 11,
     "metadata": {},
     "output_type": "execute_result"
    }
   ],
   "source": [
    "Image(filename='tempr_captcha/ebcdf6fcc3aa8932ae3f53ffcae4d0d9.png')"
   ]
  },
  {
   "cell_type": "code",
   "execution_count": 12,
   "metadata": {},
   "outputs": [
    {
     "data": {
      "image/png": "[encoded data removed]",
      "text/plain": [
       "<IPython.core.display.Image object>"
      ]
     },
     "execution_count": 12,
     "metadata": {},
     "output_type": "execute_result"
    }
   ],
   "source": [
    "Image(filename='tempr_captcha/ebcdf6fcc3aa8932ae3f53ffcae4d0d9_bw.png')"
   ]
  },
  {
   "cell_type": "code",
   "execution_count": 13,
   "metadata": {},
   "outputs": [
    {
     "data": {
      "image/png": "[encoded data removed]",
      "text/plain": [
       "<IPython.core.display.Image object>"
      ]
     },
     "execution_count": 13,
     "metadata": {},
     "output_type": "execute_result"
    }
   ],
   "source": [
    "Image(filename='tempr_captcha/ebcdf6fcc3aa8932ae3f53ffcae4d0d9_bw_outlined.png')"
   ]
  },
  {
   "cell_type": "code",
   "execution_count": 14,
   "metadata": {},
   "outputs": [
    {
     "data": {
      "image/png": "[encoded data removed]",
      "text/plain": [
       "<IPython.core.display.Image object>"
      ]
     },
     "execution_count": 14,
     "metadata": {},
     "output_type": "execute_result"
    }
   ],
   "source": [
    "Image(filename='tempr_captcha/ebcdf6fcc3aa8932ae3f53ffcae4d0d9_bw_filled.png')"
   ]
  }
 ],
 "metadata": {
  "kernelspec": {
   "display_name": "Python 3",
   "language": "python",
   "name": "python3"
  },
  "language_info": {
   "codemirror_mode": {
    "name": "ipython",
    "version": 3
   },
   "file_extension": ".py",
   "mimetype": "text/x-python",
   "name": "python",
   "nbconvert_exporter": "python",
   "pygments_lexer": "ipython3",
   "version": "3.8.5"
  }
 },
 "nbformat": 4,
 "nbformat_minor": 4
}
